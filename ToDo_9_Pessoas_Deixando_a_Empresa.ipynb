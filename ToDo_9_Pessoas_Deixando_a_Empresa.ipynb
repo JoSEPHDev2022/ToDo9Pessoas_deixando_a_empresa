{
  "nbformat": 4,
  "nbformat_minor": 0,
  "metadata": {
    "colab": {
      "provenance": [],
      "authorship_tag": "ABX9TyPsZC3s55r/PX/jPrOIF0bi",
      "include_colab_link": true
    },
    "kernelspec": {
      "name": "python3",
      "display_name": "Python 3"
    },
    "language_info": {
      "name": "python"
    }
  },
  "cells": [
    {
      "cell_type": "markdown",
      "metadata": {
        "id": "view-in-github",
        "colab_type": "text"
      },
      "source": [
        "<a href=\"https://colab.research.google.com/github/JoSEPHDev2022/ToDo9Pessoas_deixando_a_empresa/blob/main/ToDo_9_Pessoas_Deixando_a_Empresa.ipynb\" target=\"_parent\"><img src=\"https://colab.research.google.com/assets/colab-badge.svg\" alt=\"Open In Colab\"/></a>"
      ]
    },
    {
      "cell_type": "markdown",
      "source": [
        "# <font color='ECB30F'>**_ToDo 9: Pessoas Deixando a Empresa_**</font>"
      ],
      "metadata": {
        "id": "1a4tN0JfTeNh"
      }
    },
    {
      "cell_type": "markdown",
      "source": [
        "O gráfico de bolhas a seguir é muito conhecido e foi retirado do livro: <font color='F35906'>*Storytelling with Data: Let's Practice!*</font>.  As situações propostas no livro podem ser usadas ​​para nos ajudar a entender e praticar várias lições relacionadas à comunicação com dados.\n"
      ],
      "metadata": {
        "id": "OBZhYsTPU65L"
      }
    },
    {
      "cell_type": "markdown",
      "source": [
        "<font size='4'>**Gráficos que serão utilizados:**<br><br>\n",
        "![graph.png](https://drive.google.com/uc?id=14_8VNeUdcM3j-l95dLCMn441MSijYe_s)"
      ],
      "metadata": {
        "id": "Z3E_7SxoVMhx"
      }
    },
    {
      "cell_type": "markdown",
      "source": [
        "Para esse gráfico temos a seguinte situação: \n",
        "\n",
        ">*Imagine que você seja o Chefe de Gabinete do Chief Marketing Officer (CMO) de uma grande empresa. Seu chefe, o CMO, pediu que você trabalhasse com seu Parceiro de Negócios de Recursos Humanos (HRBP) para entender o que está causando o atrito – pessoas deixando a empresa – em toda a organização de marketing e apresentar suas descobertas. Seu HRBP analisa os dados e envia por e-mail a visualização acima. Passe algum tempo se familiarizando com o gráfico e os dados que ele mostra e, em seguida, conclua as etapas a seguir.*"
      ],
      "metadata": {
        "id": "qBvyQ0h7XWSt"
      }
    },
    {
      "cell_type": "markdown",
      "source": [
        "## <font color='ECB30F'>**_Etapas a Concluir_**</font>"
      ],
      "metadata": {
        "id": "nQ9gCCpGYFXY"
      }
    },
    {
      "cell_type": "markdown",
      "source": [
        "### <font color='ECB30F'>***1. O que está sendo mostrado aqui? Escreva um texto explicando os dados. (Dica: imagine que você precisa explicar esse gráfico para o CMO. Escreva sobre como você faria isso em voz alta (fazendo suposições conforme necessário). Esses dados são fáceis ou complicados de falar em sua forma atual?)***\n"
      ],
      "metadata": {
        "id": "gbORSexbYZrF"
      }
    },
    {
      "cell_type": "markdown",
      "source": [
        "Na imagem temos dois gráficos que apresentam visualmente os principais motivos pelos quais nossos funcionários estão deixando a empresa, numa relação entre a **frequência** desses motivos e o **quão impactante** nessa decisão de saída ele é. Irei apresentar e  explicar em mais detalhes os gráficos em sequência.\n",
        "\n",
        "- <font color='F35906'>***Gráfico 1: HR Business Partner Input***\n",
        "\n",
        "> Começando com o primeiro gráfico, onde temos o resultado da análise feita pelo nosso ***Parceiro de Negócios de Recursos Humanos (HRBP)***, onde temos uma divisão em quatro quadrantes relativos aos dois eixos do gráfico e bolas coloridas de diferentes dimensões, representando cada motivo dado para saída do funcionário da empresa assim como a quantidade de vezes na qual esse motivo foi citado. \n",
        ">\n",
        ">Em relação ao ***eixo X***, o eixo que representa a ***frequência*** com que os motivos de saída do funcionário aparecem, quanto mais a esquerda as bolas aparecem, mais baixa é essa frequência e quanto mais para a direita elas estão, mais frequente esse motivo foi citado na pesquisa. \n",
        ">\n",
        "> Aqui podemos notar que os motivos que mais impactam nessa saída (quadrante superior esquerdo) são:\n",
        " > - <font color='0680F3'>***Treinamento***</font>\n",
        " > - <font color='79B1E7'>***Conflito com outras pessoas***</font>\n",
        " > - <font color='15D592'>***Falta de Reconhecimento***</font> \n",
        " > - <font color='08920E'>***Quantidade de trabalho***</font>\n",
        ">\n",
        "> Sendo a falta de reconhecimento o registro que mais apareceu dentre esses que impactam muito a saída dos funcionários. Isso, juntamente com os outros motivos citados nesse quadrante podem indicar um ambiente de trabalho não favorável aos nossos funcionários, onde a quantidade de trabalho passado e a convivência complicada entre eles é altamente impactante nos motivos de saída. \n",
        ">\n",
        "> <font size=4>**<div align=\"center\">O que pode ser feito?</div><br>**\n",
        ">\n",
        "> Sugiro que as lideranças de cada setor/squads/grupos de trabalho se envolvam mais num nível pessoal com nossos funcionários, para poder identificar esses padrões de um ambiente não favorável a eles e poder levar isso para o gestor responsável, onde uma reformulação de tarefas ou reposição do funcionário possa ser considerada. Também a ***exigência de soft skills mais refinadas e definidas*** na hora da contratação de novos funcionários e treinamentos progressivos dessas soft skills com nossos fuincionários já residentes possa contribuir para mitigar o motivo de conflito interpessoal.\n",
        ">\n",
        "> Podemos notar os motivos que apareceram mais frequentemente na pesquisa e que possuem diferentes níveis de impacto na decisão do funcionário de sair da empresa. Se olharmos para os dois eixos à direita do gráfico, podemos observar que, indo ***do menos para o mais impactante*** respectivamente, temos os motivos:\n",
        "> - <font color='869086'>***Realocação***</font>\n",
        "> - <font color='E4B2F5'>***Tipo de trabalho***</font>\n",
        "> - <font color='34C030'>***Progressão na Carreira***</font>\n",
        ">\n",
        "> O motivo mais frequente e de maior impacto nessa tomada de decisão é a ***progressão na carreira*** e, em segundo, o tipo de trabalho exercido pelo funcionário. Isso pode indicar uma tendência onde nossos funcionários vão se desenvolvendo e aprimorando profissionalmente em nossa empresa porém, após certo ponto, podem se sentir estagnados na tarefa em que fazem e podem não enxergar mais uma trilha de evolução na nossa empresa, fazendo assim com que saiam do negócio.\n",
        ">\n",
        "> Uma proposta para tratar essa questão, seria um investimento para o desenvolvimento de plano de carreira mais robusto para nossos funcionários, onde independente de terem sido recém contratados ou de estarem conosco a anos, eles podem identificar caminhos que ainda não foram seguidos, oportunidades a serem testadas, projetos, posições e tarefas que ainda não exerceram e que podem contribuir para seu desenvolvimento pessoal e profissional, tudo isso fazendo com que seja mais motivador e empolgante trabalhar em nossa empresa.\n",
        "\n",
        "\n",
        "- <font color='F35906'>***Gráfico 2: Exit Survey***\n",
        "\n",
        "> Já no segundo gráfico, temos os resultados das pesquisas feitas diretamente com os funcionários que se desligaram da empresa, onde os eixos e quadrantes desse gráfico funcionam e podem ser interpretados da mesma maneira do que o anterior.\n",
        ">\n",
        "> Sendo assim, podemos notar no canto superior esquerdo que os motivos que mais impactam essa sáida continuam os mesmos, porém em quantidades e frequências diferentes. Tendo o mesmo top 4 de motivos mais impactantes ainda intacto:\n",
        " > - <font color='0680F3'>***Treinamento***</font>\n",
        " > - <font color='79B1E7'>***Conflito com outras pessoas***</font>\n",
        " > - <font color='15D592'>***Falta de Reconhecimento***</font> \n",
        " > - <font color='08920E'>***Quantidade de trabalho***</font> \n",
        ">\n",
        "> As mesmas medidas que citei como propostas de solução dessa questão ainda se aplicam aqui. Porém se observarmos o lado esquerdo do gráfico, temos uma mudança notável no padrão de resposta.\n",
        ">\n",
        "> No geral, os motivos de saída não variaram muito expressivamente em relação ao seu ***impacto (eixo y, cima-baixo)***, porém tiveram uma mudança mais expressiva na ***frequência em que apareceram (eixo x, esquerda-direita)***, com destaque a predominância total do motivo Progressão na Carreira nos quadrantes esquerdos do gráfico, estando praticamente na mesma posição da do gráfico anterior. \n",
        ">\n",
        "> Os outros motivos (Realocação e Tipo de trabalho) foram citados com muito  menos frequência, porém mantendo impacto similar ao gráfico anterior na tomada de decisão de saída do funcionário.\n",
        ">\n",
        "> Com essas análises dos dados realizada, podemos nos questionar:\n",
        ">\n",
        "><font size=4>**<div align=\"center\"> Afinal, os dados são complicados de serem compreendidos e falados ao público?</div><br>**\n",
        ">\n",
        "> Os dados não são necessariamete complicados de serem explicados em sua forma atual, porém uma versão mais fácil e compreensível de  visualizarmos esses dados definitivamente é possível. A versão atual pode ser compreendida, porém se é necessário uma explicação robusta prévia que torne a visualização mais fácil. Ou seja, os dados em si não são complicados de serem expostos na fala, porém sua visualização pode ser aprimorada para tornar essa tarefa mais fácil, direta e compreensíva.\n"
      ],
      "metadata": {
        "id": "oaCyD4rBboTE"
      }
    },
    {
      "cell_type": "markdown",
      "source": [
        "### <font color='ECB30F'>***2. Que observações você pode fazer a partir desses dados? Coloque três conclusões específicas em palavras (Escreva sentenças completas)***\n"
      ],
      "metadata": {
        "id": "p0tCiVLsYsVs"
      }
    },
    {
      "cell_type": "markdown",
      "source": [
        "Tudo que vimos na análise acima pode nos indicar que, por mais que as pessoas pesquisadas e a quantidade delas fossem diferentes, as duas pesquisas indicam\n",
        "tendências e observações importantes:\n",
        "\n",
        "<font color='F35906'>***1. Plano de Carreira***\n",
        "\n",
        "> - A necessidade do acompanhamento e o desenvolvimento de um plano de carreira para nossos funcionários, para que o motivo de saída \"Progressão na Carreira\" possa ser mitigado, fazendo com esses profissionais avançados queiram continuar a trabalhar em nosso negócio.\n",
        "\n",
        "<font color='F35906'>***2. Desenvolvimento Soft***\n",
        "> - A necessidade de um trabalho mais presente em relação as soft skills dos nossos funcionários, tanto no momento da contratação quanto no oferecimento de palestras ou cursos progressivos de técnicas de relações utilizando soft skills para nossos funcionários já presentes.\n",
        "\n",
        "<font color='F35906'>***3. Reconhecimento e Management Ativo***\n",
        "> - O desenvolvimento de um sistema de reconhecimento pelo trabalho bem feito de nossos funcionários (funcionário do mês, participação em eventos, gameficação do ambiente de trabalho, como exemplos), além de uma presença mais ativa de nossas lideranças nos processos e projetos desenvolvidos por nossos funcionários, para que os mesmos possam ser mais reconhecidos pelas tarefas que exercem e pelo papel que atual no nosso negócio."
      ],
      "metadata": {
        "id": "No3AHL44yA-M"
      }
    },
    {
      "cell_type": "markdown",
      "source": [
        "### <font color='ECB30F'>***3. O que não é ideal ou poderia ser evitado na visualização em sua forma atual? Que perguntas você faria ou feedback para quem fez o gráfico? (Ex: suponha que seu HRBP gastou muito tempo criando esse gráfico, como você pode enquadrar seu feedback para que ele não se ofenda?))***"
      ],
      "metadata": {
        "id": "PwykSzAWY1rt"
      }
    },
    {
      "cell_type": "markdown",
      "source": [
        "- <font color='F35906'>***Representação Gráfica***\n",
        "\n",
        "A representação com o formato atual possui alguns problemas na visualização. Como destaque, a forma com que os dados são representados não é a melhor por alguns fatores:\n",
        "\n",
        "> - <font color='F35906'>***Cores:***</font> A escolha da paleta de cores no gráfico transforma a visualização mais \"poluída\" devido ao número de variáveis presentes, além de ser potencialmente difícil ou até mesmo impossível de serem distinguidas por pessoas com daltonismo.\n",
        ">\t\n",
        "> - <font color='F35906'>***Formas e Números:***</font> Outro problema com a visualização é o uso de círculos com números dentro. Isso causa alguns fenômenos, como a falta de perspectiva de dimensões reais entre as variáveis e a falta de clareza em cada uma delas, no caso, a todo momento a pessoa que está a olhar o gráfico, precisa ir para a legenda procurar a cor correspondente de cada círculo para poder identificar o que aquela forma representa. Isso, com a paleta de cores similiares utilizadas e as diferentes dimensões para cada círculo, tornam a visualização mais complicada e visualmente poluída do que precisa ser.\n",
        ">\t\n",
        "> - <font color='F35906'>***Outras observações:***</font> Além dos problemas citados acima em relação aos dados em si, a própria construção do gráfico não é adequada. As labels dos eixos esterem numa caixa cinza e o grid que divide o gráfico em quartetos ser rosa claro (inclusive sendo da mesma cor de um dos círculos utilizados no gráfico) não é uma prática recomendada, pois deixa o gráfico mais longe de possuir uma vbisualização limpa e, mais ainda, tira a já tênue concentração do visualizador dos dados, pois não há pontos de destaque claros e intuitívos para que a pessoa que está olhando o gráfico possa \"bater o olho\" e reconhecer os dados centrais do gráfico e o que cada um deles representa.\n",
        "\n",
        "Em suma, deve-se evitar essas características citadas acima para se criar um gráfico mais limpo, intuitivo e compreensivel de olhar.\n",
        "\n",
        "- <font color='F35906'>***Feedback***\n",
        "\n",
        ">Em relação ao feedback, primeiro eu iria congratular o nosso parceiro por ter feito a apresentação e a pesquisa, também iria destacar os pontos positivos da apresentação, após isso, iria realizaria algumas perguntas ao HRBP, como:\n",
        ">-  \"Qual o motivo da escolha da paleta de cores atual?\"; \n",
        ">- \"Você acha que o gráfico atinge o objetivo de passar os dados de forma compreensiva e limpa?\". \n",
        ">\n",
        ">Por fim, iria destacar os pontos que citei acima para melhoria, em relação ao uso das cores, das formas, da construção do gráfico em si. Também passaria a ele qualquer documentação ou site que eu tivesse conhecimento sobre visualização gráfica para ajudá-lo nas pesquisas. \n",
        ">\n",
        ">Por fim, agradeceria novamente a dedicação e empenho dele e ficaria ansioso para ver os próximos trabalhos desenvolvidos por ele, pois claramente ele possuí dedicação e comprometimento com nosso negócio, necessitando apenas de alguns conselhos e feedbacks para se aprimorar mais como profissional."
      ],
      "metadata": {
        "id": "qFNneA84FEwA"
      }
    },
    {
      "cell_type": "markdown",
      "source": [
        "### <font color='ECB30F'>***4. Vamos visualizar! Invente três maneiras diferentes de mostrar esses dados. quais são algumas vantagens e deficiências de cada uma? Liste-as. (Coloquei o esboço de cada uma no arquivo)***"
      ],
      "metadata": {
        "id": "HJI_Pw2wY61B"
      }
    },
    {
      "cell_type": "code",
      "source": [],
      "metadata": {
        "id": "r9-YjHZkZAOw"
      },
      "execution_count": null,
      "outputs": []
    },
    {
      "cell_type": "markdown",
      "source": [
        "### <font color='ECB30F'>***5. Qual visualização representa melhor os dados e por quê?***"
      ],
      "metadata": {
        "id": "6YA6AYdpZAfH"
      }
    },
    {
      "cell_type": "code",
      "source": [],
      "metadata": {
        "id": "jnU5gaqYZGy0"
      },
      "execution_count": null,
      "outputs": []
    },
    {
      "cell_type": "markdown",
      "source": [
        "### <font color='ECB30F'>***6. Baixe os [dados](https://docs.google.com/spreadsheets/d/1mIvPu-KjNRIq4FBcV03_sxnFo0rLYhdS/edit?usp=sharing&ouid=117674959124577680782&rtpof=true&sd=true) e crie a visualização que você acha que representou melhor com a ferramenta de sua preferência (matplotlib, tableau, etc).***"
      ],
      "metadata": {
        "id": "eeifDhaGZHVm"
      }
    },
    {
      "cell_type": "code",
      "source": [],
      "metadata": {
        "id": "Dk5DG5oiZcqw"
      },
      "execution_count": null,
      "outputs": []
    },
    {
      "cell_type": "markdown",
      "source": [
        "### <font color='ECB30F'>***7. O objetivo é pensar  além de simplesmente mostrar dados. Como você pode gerar essas informações em uma história orientada por dados para seu gerente, o CMO.  (Qual é o contexto da história?)***"
      ],
      "metadata": {
        "id": "ly5rp0sBZhY7"
      }
    },
    {
      "cell_type": "code",
      "source": [],
      "metadata": {
        "id": "znVu6xE_ZnhG"
      },
      "execution_count": null,
      "outputs": []
    }
  ]
}