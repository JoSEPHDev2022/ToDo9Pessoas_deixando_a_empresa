{
  "nbformat": 4,
  "nbformat_minor": 0,
  "metadata": {
    "colab": {
      "provenance": [],
      "authorship_tag": "ABX9TyMvjeV/QEhkdbbcbqdJWWxT",
      "include_colab_link": true
    },
    "kernelspec": {
      "name": "python3",
      "display_name": "Python 3"
    },
    "language_info": {
      "name": "python"
    }
  },
  "cells": [
    {
      "cell_type": "markdown",
      "metadata": {
        "id": "view-in-github",
        "colab_type": "text"
      },
      "source": [
        "<a href=\"https://colab.research.google.com/github/JoSEPHDev2022/ToDo9Pessoas_deixando_a_empresa/blob/main/ToDo_9_Pessoas_Deixando_a_Empresa.ipynb\" target=\"_parent\"><img src=\"https://colab.research.google.com/assets/colab-badge.svg\" alt=\"Open In Colab\"/></a>"
      ]
    },
    {
      "cell_type": "markdown",
      "source": [
        "Teste para commit\n"
      ],
      "metadata": {
        "id": "1a4tN0JfTeNh"
      }
    },
    {
      "cell_type": "code",
      "source": [],
      "metadata": {
        "id": "SMBnj4KTTg8V"
      },
      "execution_count": null,
      "outputs": []
    }
  ]
}